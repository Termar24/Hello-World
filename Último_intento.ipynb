{
  "cells": [
    {
      "cell_type": "markdown",
      "metadata": {
        "id": "view-in-github",
        "colab_type": "text"
      },
      "source": [
        "<a href=\"https://colab.research.google.com/github/Termar24/Hello-World/blob/main/%C3%9Altimo_intento.ipynb\" target=\"_parent\"><img src=\"https://colab.research.google.com/assets/colab-badge.svg\" alt=\"Open In Colab\"/></a>"
      ]
    },
    {
      "cell_type": "markdown",
      "metadata": {
        "id": "qpCGvNN0RmP2"
      },
      "source": [
        "# Ejemplo básico 1"
      ]
    },
    {
      "cell_type": "markdown",
      "metadata": {
        "id": "v4RM9ly2RmQD"
      },
      "source": [
        "#### Importar las bibliotecas necesarias:\n",
        "- pandas para la manipulación de datos\n",
        "- matplotlib y seaborn para la visualización de datos\n",
        "- sklearn para la construcción del modelo de regresión"
      ]
    },
    {
      "cell_type": "code",
      "execution_count": null,
      "metadata": {
        "id": "1rCWdSCKRmQG"
      },
      "outputs": [],
      "source": [
        "import numpy as np # calculo numérico y analisis de datos\n",
        "import pandas as pd # para tratamiento y analisis de datos\n",
        "import matplotlib.pyplot as plt # creacion de graficos en dos dimensiones\n",
        "import seaborn as sb #permite crear graficos estadisticos\n",
        "from sklearn.linear_model import LinearRegression #aprendizaje automático y modelado estadístico, incluyendo clasificación, regresión, agrupación, y reducción de dimensionalidad"
      ]
    },
    {
      "cell_type": "markdown",
      "metadata": {
        "id": "NN-LYSy4RmQI"
      },
      "source": [
        "### Cargar datos en un DataFrame de Pandas\n",
        "Puedes cargar los datos desde un archivo CSV, una base de datos o un Excel."
      ]
    },
    {
      "cell_type": "code",
      "execution_count": null,
      "metadata": {
        "id": "UYHSSv9YRmQJ"
      },
      "outputs": [],
      "source": [
        "datos=pd.read_excel(r'Datos_entregaa1.xlsx')\n",
        "#asignar al DataFrame \"data\" los datos del Excel importado"
      ]
    },
    {
      "cell_type": "code",
      "source": [
        "from google.colab import drive\n",
        "drive.mount('/content/drive')"
      ],
      "metadata": {
        "colab": {
          "base_uri": "https://localhost:8080/"
        },
        "id": "4B4fMByVhAQ_",
        "outputId": "81661d0f-89eb-456a-cbfd-d63102c28e7f"
      },
      "execution_count": null,
      "outputs": [
        {
          "output_type": "stream",
          "name": "stdout",
          "text": [
            "Mounted at /content/drive\n"
          ]
        }
      ]
    },
    {
      "cell_type": "code",
      "execution_count": null,
      "metadata": {
        "id": "OvotQ2XSRmQK",
        "outputId": "60c25c37-af8b-4e74-d005-a3dad5b61d78",
        "colab": {
          "base_uri": "https://localhost:8080/"
        }
      },
      "outputs": [
        {
          "output_type": "execute_result",
          "data": {
            "text/plain": [
              "(126, 19)"
            ]
          },
          "metadata": {},
          "execution_count": 5
        }
      ],
      "source": [
        "datos.shape #arroja cantidad de (filas,columnas)"
      ]
    },
    {
      "cell_type": "code",
      "execution_count": null,
      "metadata": {
        "id": "UDH0bgbHRmQL",
        "scrolled": true,
        "outputId": "519bed49-073a-4d7b-fb6e-53271b1963fb",
        "colab": {
          "base_uri": "https://localhost:8080/"
        }
      },
      "outputs": [
        {
          "output_type": "execute_result",
          "data": {
            "text/plain": [
              "Y por unidad    float64\n",
              "Precio          float64\n",
              "X2                int64\n",
              "X3                int64\n",
              "X4                int64\n",
              "X5                int64\n",
              "X6                int64\n",
              "X7                int64\n",
              "X8                int64\n",
              "X9                int64\n",
              "X10               int64\n",
              "X11               int64\n",
              "X12               int64\n",
              "X13               int64\n",
              "X14               int64\n",
              "X15               int64\n",
              "X16               int64\n",
              "X17               int64\n",
              "X18               int64\n",
              "dtype: object"
            ]
          },
          "metadata": {},
          "execution_count": 6
        }
      ],
      "source": [
        "datos.dtypes #tipos de variable que hay en cada columna"
      ]
    },
    {
      "cell_type": "code",
      "execution_count": null,
      "metadata": {
        "id": "CpwGTV3URmQM",
        "outputId": "45dedfee-aac0-468d-b20b-d19d14eec2f5",
        "colab": {
          "base_uri": "https://localhost:8080/",
          "height": 363
        }
      },
      "outputs": [
        {
          "output_type": "execute_result",
          "data": {
            "text/plain": [
              "   Y por unidad    Precio  X2  X3  X4  X5  X6  X7  X8  X9  X10  X11  X12  X13  \\\n",
              "0    23485702.4  2.492711   0   0   0   0   0   0   1   0    0    0    0    0   \n",
              "1        3884.0  9.505407   0   0   0   0   0   0   0   0    0    0    0    0   \n",
              "2     7699262.1  1.942879   0   0   0   0   0   0   0   0    0    0    0    1   \n",
              "3      206343.4  2.989107   0   0   0   0   0   0   0   0    0    0    0    0   \n",
              "4      242620.7  3.539241   0   0   0   0   0   0   0   0    0    0    0    0   \n",
              "5     1600173.3  3.339310   0   0   0   0   0   1   0   0    0    0    0    0   \n",
              "6     1821029.7  1.985736   0   0   0   0   0   0   0   0    0    0    0    0   \n",
              "7     2509897.4  2.509873   0   0   0   0   0   0   0   0    0    0    1    0   \n",
              "8       59136.1  2.912916   0   0   0   0   0   0   0   0    0    0    0    0   \n",
              "9     8547846.7  1.762879   0   0   0   0   0   0   0   1    0    0    0    0   \n",
              "\n",
              "   X14  X15  X16  X17  X18  \n",
              "0    0    0    0    0    0  \n",
              "1    0    0    0    0    0  \n",
              "2    0    0    0    0    0  \n",
              "3    0    0    0    1    0  \n",
              "4    0    0    1    0    0  \n",
              "5    0    0    0    0    0  \n",
              "6    1    0    0    0    0  \n",
              "7    0    0    0    0    0  \n",
              "8    0    1    0    0    0  \n",
              "9    0    0    0    0    0  "
            ],
            "text/html": [
              "\n",
              "  <div id=\"df-b5d15fb8-0914-4236-8d3e-1a5aa163b404\">\n",
              "    <div class=\"colab-df-container\">\n",
              "      <div>\n",
              "<style scoped>\n",
              "    .dataframe tbody tr th:only-of-type {\n",
              "        vertical-align: middle;\n",
              "    }\n",
              "\n",
              "    .dataframe tbody tr th {\n",
              "        vertical-align: top;\n",
              "    }\n",
              "\n",
              "    .dataframe thead th {\n",
              "        text-align: right;\n",
              "    }\n",
              "</style>\n",
              "<table border=\"1\" class=\"dataframe\">\n",
              "  <thead>\n",
              "    <tr style=\"text-align: right;\">\n",
              "      <th></th>\n",
              "      <th>Y por unidad</th>\n",
              "      <th>Precio</th>\n",
              "      <th>X2</th>\n",
              "      <th>X3</th>\n",
              "      <th>X4</th>\n",
              "      <th>X5</th>\n",
              "      <th>X6</th>\n",
              "      <th>X7</th>\n",
              "      <th>X8</th>\n",
              "      <th>X9</th>\n",
              "      <th>X10</th>\n",
              "      <th>X11</th>\n",
              "      <th>X12</th>\n",
              "      <th>X13</th>\n",
              "      <th>X14</th>\n",
              "      <th>X15</th>\n",
              "      <th>X16</th>\n",
              "      <th>X17</th>\n",
              "      <th>X18</th>\n",
              "    </tr>\n",
              "  </thead>\n",
              "  <tbody>\n",
              "    <tr>\n",
              "      <th>0</th>\n",
              "      <td>23485702.4</td>\n",
              "      <td>2.492711</td>\n",
              "      <td>0</td>\n",
              "      <td>0</td>\n",
              "      <td>0</td>\n",
              "      <td>0</td>\n",
              "      <td>0</td>\n",
              "      <td>0</td>\n",
              "      <td>1</td>\n",
              "      <td>0</td>\n",
              "      <td>0</td>\n",
              "      <td>0</td>\n",
              "      <td>0</td>\n",
              "      <td>0</td>\n",
              "      <td>0</td>\n",
              "      <td>0</td>\n",
              "      <td>0</td>\n",
              "      <td>0</td>\n",
              "      <td>0</td>\n",
              "    </tr>\n",
              "    <tr>\n",
              "      <th>1</th>\n",
              "      <td>3884.0</td>\n",
              "      <td>9.505407</td>\n",
              "      <td>0</td>\n",
              "      <td>0</td>\n",
              "      <td>0</td>\n",
              "      <td>0</td>\n",
              "      <td>0</td>\n",
              "      <td>0</td>\n",
              "      <td>0</td>\n",
              "      <td>0</td>\n",
              "      <td>0</td>\n",
              "      <td>0</td>\n",
              "      <td>0</td>\n",
              "      <td>0</td>\n",
              "      <td>0</td>\n",
              "      <td>0</td>\n",
              "      <td>0</td>\n",
              "      <td>0</td>\n",
              "      <td>0</td>\n",
              "    </tr>\n",
              "    <tr>\n",
              "      <th>2</th>\n",
              "      <td>7699262.1</td>\n",
              "      <td>1.942879</td>\n",
              "      <td>0</td>\n",
              "      <td>0</td>\n",
              "      <td>0</td>\n",
              "      <td>0</td>\n",
              "      <td>0</td>\n",
              "      <td>0</td>\n",
              "      <td>0</td>\n",
              "      <td>0</td>\n",
              "      <td>0</td>\n",
              "      <td>0</td>\n",
              "      <td>0</td>\n",
              "      <td>1</td>\n",
              "      <td>0</td>\n",
              "      <td>0</td>\n",
              "      <td>0</td>\n",
              "      <td>0</td>\n",
              "      <td>0</td>\n",
              "    </tr>\n",
              "    <tr>\n",
              "      <th>3</th>\n",
              "      <td>206343.4</td>\n",
              "      <td>2.989107</td>\n",
              "      <td>0</td>\n",
              "      <td>0</td>\n",
              "      <td>0</td>\n",
              "      <td>0</td>\n",
              "      <td>0</td>\n",
              "      <td>0</td>\n",
              "      <td>0</td>\n",
              "      <td>0</td>\n",
              "      <td>0</td>\n",
              "      <td>0</td>\n",
              "      <td>0</td>\n",
              "      <td>0</td>\n",
              "      <td>0</td>\n",
              "      <td>0</td>\n",
              "      <td>0</td>\n",
              "      <td>1</td>\n",
              "      <td>0</td>\n",
              "    </tr>\n",
              "    <tr>\n",
              "      <th>4</th>\n",
              "      <td>242620.7</td>\n",
              "      <td>3.539241</td>\n",
              "      <td>0</td>\n",
              "      <td>0</td>\n",
              "      <td>0</td>\n",
              "      <td>0</td>\n",
              "      <td>0</td>\n",
              "      <td>0</td>\n",
              "      <td>0</td>\n",
              "      <td>0</td>\n",
              "      <td>0</td>\n",
              "      <td>0</td>\n",
              "      <td>0</td>\n",
              "      <td>0</td>\n",
              "      <td>0</td>\n",
              "      <td>0</td>\n",
              "      <td>1</td>\n",
              "      <td>0</td>\n",
              "      <td>0</td>\n",
              "    </tr>\n",
              "    <tr>\n",
              "      <th>5</th>\n",
              "      <td>1600173.3</td>\n",
              "      <td>3.339310</td>\n",
              "      <td>0</td>\n",
              "      <td>0</td>\n",
              "      <td>0</td>\n",
              "      <td>0</td>\n",
              "      <td>0</td>\n",
              "      <td>1</td>\n",
              "      <td>0</td>\n",
              "      <td>0</td>\n",
              "      <td>0</td>\n",
              "      <td>0</td>\n",
              "      <td>0</td>\n",
              "      <td>0</td>\n",
              "      <td>0</td>\n",
              "      <td>0</td>\n",
              "      <td>0</td>\n",
              "      <td>0</td>\n",
              "      <td>0</td>\n",
              "    </tr>\n",
              "    <tr>\n",
              "      <th>6</th>\n",
              "      <td>1821029.7</td>\n",
              "      <td>1.985736</td>\n",
              "      <td>0</td>\n",
              "      <td>0</td>\n",
              "      <td>0</td>\n",
              "      <td>0</td>\n",
              "      <td>0</td>\n",
              "      <td>0</td>\n",
              "      <td>0</td>\n",
              "      <td>0</td>\n",
              "      <td>0</td>\n",
              "      <td>0</td>\n",
              "      <td>0</td>\n",
              "      <td>0</td>\n",
              "      <td>1</td>\n",
              "      <td>0</td>\n",
              "      <td>0</td>\n",
              "      <td>0</td>\n",
              "      <td>0</td>\n",
              "    </tr>\n",
              "    <tr>\n",
              "      <th>7</th>\n",
              "      <td>2509897.4</td>\n",
              "      <td>2.509873</td>\n",
              "      <td>0</td>\n",
              "      <td>0</td>\n",
              "      <td>0</td>\n",
              "      <td>0</td>\n",
              "      <td>0</td>\n",
              "      <td>0</td>\n",
              "      <td>0</td>\n",
              "      <td>0</td>\n",
              "      <td>0</td>\n",
              "      <td>0</td>\n",
              "      <td>1</td>\n",
              "      <td>0</td>\n",
              "      <td>0</td>\n",
              "      <td>0</td>\n",
              "      <td>0</td>\n",
              "      <td>0</td>\n",
              "      <td>0</td>\n",
              "    </tr>\n",
              "    <tr>\n",
              "      <th>8</th>\n",
              "      <td>59136.1</td>\n",
              "      <td>2.912916</td>\n",
              "      <td>0</td>\n",
              "      <td>0</td>\n",
              "      <td>0</td>\n",
              "      <td>0</td>\n",
              "      <td>0</td>\n",
              "      <td>0</td>\n",
              "      <td>0</td>\n",
              "      <td>0</td>\n",
              "      <td>0</td>\n",
              "      <td>0</td>\n",
              "      <td>0</td>\n",
              "      <td>0</td>\n",
              "      <td>0</td>\n",
              "      <td>1</td>\n",
              "      <td>0</td>\n",
              "      <td>0</td>\n",
              "      <td>0</td>\n",
              "    </tr>\n",
              "    <tr>\n",
              "      <th>9</th>\n",
              "      <td>8547846.7</td>\n",
              "      <td>1.762879</td>\n",
              "      <td>0</td>\n",
              "      <td>0</td>\n",
              "      <td>0</td>\n",
              "      <td>0</td>\n",
              "      <td>0</td>\n",
              "      <td>0</td>\n",
              "      <td>0</td>\n",
              "      <td>1</td>\n",
              "      <td>0</td>\n",
              "      <td>0</td>\n",
              "      <td>0</td>\n",
              "      <td>0</td>\n",
              "      <td>0</td>\n",
              "      <td>0</td>\n",
              "      <td>0</td>\n",
              "      <td>0</td>\n",
              "      <td>0</td>\n",
              "    </tr>\n",
              "  </tbody>\n",
              "</table>\n",
              "</div>\n",
              "      <button class=\"colab-df-convert\" onclick=\"convertToInteractive('df-b5d15fb8-0914-4236-8d3e-1a5aa163b404')\"\n",
              "              title=\"Convert this dataframe to an interactive table.\"\n",
              "              style=\"display:none;\">\n",
              "        \n",
              "  <svg xmlns=\"http://www.w3.org/2000/svg\" height=\"24px\"viewBox=\"0 0 24 24\"\n",
              "       width=\"24px\">\n",
              "    <path d=\"M0 0h24v24H0V0z\" fill=\"none\"/>\n",
              "    <path d=\"M18.56 5.44l.94 2.06.94-2.06 2.06-.94-2.06-.94-.94-2.06-.94 2.06-2.06.94zm-11 1L8.5 8.5l.94-2.06 2.06-.94-2.06-.94L8.5 2.5l-.94 2.06-2.06.94zm10 10l.94 2.06.94-2.06 2.06-.94-2.06-.94-.94-2.06-.94 2.06-2.06.94z\"/><path d=\"M17.41 7.96l-1.37-1.37c-.4-.4-.92-.59-1.43-.59-.52 0-1.04.2-1.43.59L10.3 9.45l-7.72 7.72c-.78.78-.78 2.05 0 2.83L4 21.41c.39.39.9.59 1.41.59.51 0 1.02-.2 1.41-.59l7.78-7.78 2.81-2.81c.8-.78.8-2.07 0-2.86zM5.41 20L4 18.59l7.72-7.72 1.47 1.35L5.41 20z\"/>\n",
              "  </svg>\n",
              "      </button>\n",
              "      \n",
              "  <style>\n",
              "    .colab-df-container {\n",
              "      display:flex;\n",
              "      flex-wrap:wrap;\n",
              "      gap: 12px;\n",
              "    }\n",
              "\n",
              "    .colab-df-convert {\n",
              "      background-color: #E8F0FE;\n",
              "      border: none;\n",
              "      border-radius: 50%;\n",
              "      cursor: pointer;\n",
              "      display: none;\n",
              "      fill: #1967D2;\n",
              "      height: 32px;\n",
              "      padding: 0 0 0 0;\n",
              "      width: 32px;\n",
              "    }\n",
              "\n",
              "    .colab-df-convert:hover {\n",
              "      background-color: #E2EBFA;\n",
              "      box-shadow: 0px 1px 2px rgba(60, 64, 67, 0.3), 0px 1px 3px 1px rgba(60, 64, 67, 0.15);\n",
              "      fill: #174EA6;\n",
              "    }\n",
              "\n",
              "    [theme=dark] .colab-df-convert {\n",
              "      background-color: #3B4455;\n",
              "      fill: #D2E3FC;\n",
              "    }\n",
              "\n",
              "    [theme=dark] .colab-df-convert:hover {\n",
              "      background-color: #434B5C;\n",
              "      box-shadow: 0px 1px 3px 1px rgba(0, 0, 0, 0.15);\n",
              "      filter: drop-shadow(0px 1px 2px rgba(0, 0, 0, 0.3));\n",
              "      fill: #FFFFFF;\n",
              "    }\n",
              "  </style>\n",
              "\n",
              "      <script>\n",
              "        const buttonEl =\n",
              "          document.querySelector('#df-b5d15fb8-0914-4236-8d3e-1a5aa163b404 button.colab-df-convert');\n",
              "        buttonEl.style.display =\n",
              "          google.colab.kernel.accessAllowed ? 'block' : 'none';\n",
              "\n",
              "        async function convertToInteractive(key) {\n",
              "          const element = document.querySelector('#df-b5d15fb8-0914-4236-8d3e-1a5aa163b404');\n",
              "          const dataTable =\n",
              "            await google.colab.kernel.invokeFunction('convertToInteractive',\n",
              "                                                     [key], {});\n",
              "          if (!dataTable) return;\n",
              "\n",
              "          const docLinkHtml = 'Like what you see? Visit the ' +\n",
              "            '<a target=\"_blank\" href=https://colab.research.google.com/notebooks/data_table.ipynb>data table notebook</a>'\n",
              "            + ' to learn more about interactive tables.';\n",
              "          element.innerHTML = '';\n",
              "          dataTable['output_type'] = 'display_data';\n",
              "          await google.colab.output.renderOutput(dataTable, element);\n",
              "          const docLink = document.createElement('div');\n",
              "          docLink.innerHTML = docLinkHtml;\n",
              "          element.appendChild(docLink);\n",
              "        }\n",
              "      </script>\n",
              "    </div>\n",
              "  </div>\n",
              "  "
            ]
          },
          "metadata": {},
          "execution_count": 7
        }
      ],
      "source": [
        "datos.head(10) #primeras 5 filas para cada columna"
      ]
    },
    {
      "cell_type": "markdown",
      "metadata": {
        "id": "loDDdmIhRmQM"
      },
      "source": [
        "### Analizar los datos\n",
        "Puedes usar la función describe() para obtener un resumen de los datos y las funciones de visualización de matplotlib y seaborn para crear gráficos."
      ]
    },
    {
      "cell_type": "code",
      "execution_count": null,
      "metadata": {
        "id": "lTrqoIDXRmQO",
        "scrolled": false,
        "outputId": "b62d22dd-abf6-40ec-ac83-67fbe2832304",
        "colab": {
          "base_uri": "https://localhost:8080/",
          "height": 1000
        }
      },
      "outputs": [
        {
          "output_type": "stream",
          "name": "stdout",
          "text": [
            "       Y por unidad      Precio          X2          X3          X4  \\\n",
            "count  1.260000e+02  126.000000  126.000000  126.000000  126.000000   \n",
            "mean   2.248002e+06    2.571196    0.333333    0.333333    0.500000   \n",
            "std    6.133971e+06    1.462468    0.473286    0.473286    0.501996   \n",
            "min    0.000000e+00    0.833311    0.000000    0.000000    0.000000   \n",
            "25%    3.396350e+03    1.937831    0.000000    0.000000    0.000000   \n",
            "50%    1.348220e+05    2.205847    0.000000    0.000000    0.500000   \n",
            "75%    1.254451e+06    2.879573    1.000000    1.000000    1.000000   \n",
            "max    3.137789e+07    9.505407    1.000000    1.000000    1.000000   \n",
            "\n",
            "               X5          X6          X7          X8          X9         X10  \\\n",
            "count  126.000000  126.000000  126.000000  126.000000  126.000000  126.000000   \n",
            "mean     0.166667    0.023810    0.190476    0.285714    0.261905    0.023810   \n",
            "std      0.374166    0.153064    0.394244    0.453557    0.441426    0.153064   \n",
            "min      0.000000    0.000000    0.000000    0.000000    0.000000    0.000000   \n",
            "25%      0.000000    0.000000    0.000000    0.000000    0.000000    0.000000   \n",
            "50%      0.000000    0.000000    0.000000    0.000000    0.000000    0.000000   \n",
            "75%      0.000000    0.000000    0.000000    1.000000    1.000000    0.000000   \n",
            "max      1.000000    1.000000    1.000000    1.000000    1.000000    1.000000   \n",
            "\n",
            "              X11         X12         X13         X14         X15         X16  \\\n",
            "count  126.000000  126.000000  126.000000  126.000000  126.000000  126.000000   \n",
            "mean     0.023810    0.166667    0.095238    0.095238    0.047619    0.047619   \n",
            "std      0.153064    0.374166    0.294715    0.294715    0.213809    0.213809   \n",
            "min      0.000000    0.000000    0.000000    0.000000    0.000000    0.000000   \n",
            "25%      0.000000    0.000000    0.000000    0.000000    0.000000    0.000000   \n",
            "50%      0.000000    0.000000    0.000000    0.000000    0.000000    0.000000   \n",
            "75%      0.000000    0.000000    0.000000    0.000000    0.000000    0.000000   \n",
            "max      1.000000    1.000000    1.000000    1.000000    1.000000    1.000000   \n",
            "\n",
            "              X17         X18  \n",
            "count  126.000000  126.000000  \n",
            "mean     0.023810    0.428571  \n",
            "std      0.153064    0.496847  \n",
            "min      0.000000    0.000000  \n",
            "25%      0.000000    0.000000  \n",
            "50%      0.000000    0.000000  \n",
            "75%      0.000000    1.000000  \n",
            "max      1.000000    1.000000  \n"
          ]
        },
        {
          "output_type": "display_data",
          "data": {
            "text/plain": [
              "<Figure size 640x480 with 1 Axes>"
            ],
            "image/png": "[encoded data removed]"
          },
          "metadata": {}
        }
      ],
      "source": [
        "print(datos.describe())\n",
        "sb.scatterplot(x='Precio', y='Y por unidad', data=datos)\n",
        "plt.show()"
      ]
    },
    {
      "cell_type": "markdown",
      "metadata": {
        "id": "ZS9yxKsGRmQQ"
      },
      "source": [
        "### Construir modelo de regresión\n",
        "Una vez que se hayan analizado los datos, se puede construir un modelo de regresión para estimar la demanda. En este caso, usaremos la regresión lineal simple."
      ]
    },
    {
      "cell_type": "code",
      "execution_count": null,
      "metadata": {
        "id": "vru1AwECRmQQ",
        "scrolled": true,
        "outputId": "f388bb2a-9565-4b6e-dd69-295ac7efe121",
        "colab": {
          "base_uri": "https://localhost:8080/"
        }
      },
      "outputs": [
        {
          "output_type": "stream",
          "name": "stdout",
          "text": [
            "Coeficiente: [ -657146.56973922   170279.14713868   282841.43213283 -8760749.12267634\n",
            "  5441156.02685006 -2875451.17981269   219715.90230466  3908648.40791651\n",
            "  2125636.46926749   510713.55666502   821113.30145422  1521900.60721031\n",
            "   496798.80853459   473856.1132877  -3900372.92848757 -3020363.63131132\n",
            " -5574224.5177186  -4267272.47538148]\n",
            "Intercepto: 7526577.164669379\n"
          ]
        }
      ],
      "source": [
        "#Ajustamos el modelo de regresión lineal utilizando la biblioteca StatsModels:\n",
        "#x = datos['Precio'].values.reshape(-1, 1)\n",
        "#y = datos['Y por unidad'].values.reshape(-1, 1)\n",
        "x = datos[['Precio','X2','X3','X4','X5','X6','X7','X8','X9','X10','X11','X12','X13','X14','X15','X16','X17','X18']].values\n",
        "y = datos['Y por unidad'].values\n",
        "\n",
        "model = LinearRegression()\n",
        "model.fit(x, y)\n",
        "\n",
        "print('Coeficiente:', model.coef_)\n",
        "print('Intercepto:', model.intercept_)"
      ]
    },
    {
      "cell_type": "markdown",
      "metadata": {
        "id": "XRggQ5hURmQR"
      },
      "source": [
        "### Predecir la demanda:\n",
        "Finalmente, podemos usar el modelo de regresión para predecir la demanda para nuevos valores de la variable independiente."
      ]
    },
    {
      "cell_type": "code",
      "execution_count": null,
      "metadata": {
        "id": "995ejj9URmQS"
      },
      "outputs": [],
      "source": [
        "from sklearn.model_selection import train_test_split\n",
        "X_train, X_test, y_train, y_test = train_test_split(x, y, test_size = 0.2, random_state = 0)\n"
      ]
    },
    {
      "cell_type": "code",
      "execution_count": null,
      "metadata": {
        "id": "6g9B7j9O8emP",
        "colab": {
          "base_uri": "https://localhost:8080/"
        },
        "outputId": "fc5ac251-3b19-4c29-8174-e8d6881c6513"
      },
      "outputs": [
        {
          "output_type": "stream",
          "name": "stdout",
          "text": [
            "[2688389.45407417 3733992.36754938 3089276.00474109 5127333.139909\n",
            " 5645013.61137138 2834206.71378789 2090279.37511699 5370060.3529108\n",
            " 5791995.52175884 1746717.23277666 8354577.77167681 3560299.68975045\n",
            " -891096.21287302 6728089.76918321 4459086.12532674 4939882.47998303\n",
            " 1931483.19237066 7753486.89881828 1605870.70447114 1368847.09303778\n",
            "  531057.95755879 2370345.51654091 7869549.07153354 1321805.34652648\n",
            " 2455626.32125071 2391940.4988556 ]\n"
          ]
        }
      ],
      "source": [
        "from sklearn.linear_model import LinearRegression\n",
        "regressor = LinearRegression()  # <-- you need to instantiate the regressor like so \n",
        "regressor.fit(X_train, y_train) # <-- you need to call the fit method of the regressor\n",
        "\n",
        "# Predicting the Test set results\n",
        "Y_pred = regressor.predict(X_test)\n",
        "print(Y_pred)"
      ]
    },
    {
      "cell_type": "code",
      "source": [
        "from sklearn.metrics import mean_squared_error, r2_score\n",
        "\n",
        "# Calculamos el error cuadrático medio\n",
        "mse = mean_squared_error(y_test, Y_pred)\n",
        "\n",
        "# Calculamos el coeficiente de determinación\n",
        "r2 = r2_score(y_test, Y_pred)\n",
        "\n",
        "print(\"Error cuadrático medio (MSE): {:.2f}\".format(mse))\n",
        "print(\"Coeficiente de determinación (R²): {:.2f}\".format(r2))"
      ],
      "metadata": {
        "colab": {
          "base_uri": "https://localhost:8080/"
        },
        "id": "PMqpcTCHItoK",
        "outputId": "1d58ea14-49c5-41f0-ba73-ff69aa0b901e"
      },
      "execution_count": null,
      "outputs": [
        {
          "output_type": "stream",
          "name": "stdout",
          "text": [
            "Error cuadrático medio (MSE): 61797556339835.13\n",
            "Coeficiente de determinación (R²): 0.29\n"
          ]
        }
      ]
    }
  ],
  "metadata": {
    "colab": {
      "provenance": [],
      "include_colab_link": true
    },
    "kernelspec": {
      "display_name": "Python 3 (ipykernel)",
      "language": "python",
      "name": "python3"
    },
    "language_info": {
      "codemirror_mode": {
        "name": "ipython",
        "version": 3
      },
      "file_extension": ".py",
      "mimetype": "text/x-python",
      "name": "python",
      "nbconvert_exporter": "python",
      "pygments_lexer": "ipython3",
      "version": "3.10.10"
    }
  },
  "nbformat": 4,
  "nbformat_minor": 0
}